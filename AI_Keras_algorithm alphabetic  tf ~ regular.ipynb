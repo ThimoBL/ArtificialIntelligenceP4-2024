{
 "cells": [
  {
   "cell_type": "markdown",
   "id": "be40ba97-9745-4a70-abd7-c14da9198a86",
   "metadata": {},
   "source": [
    "# Aritificial intelligence assignment 2024"
   ]
  },
  {
   "cell_type": "code",
   "execution_count": 28,
   "id": "dae46c20-5b3b-4856-bb02-a265c1d6baf8",
   "metadata": {},
   "outputs": [
    {
     "name": "stdout",
     "output_type": "stream",
     "text": [
      "TensorFlow version: 2.16.1\n"
     ]
    }
   ],
   "source": [
    "import tensorflow as tf\n",
    "import os\n",
    "import cv2\n",
    "import matplotlib.pyplot as plt\n",
    "import tensorflow_datasets as tfds\n",
    "from tensorflow.keras.models import Sequential\n",
    "from tensorflow.keras.layers import Conv2D, MaxPooling2D, Flatten, Dense\n",
    "\n",
    "print(\"TensorFlow version:\", tf.__version__)"
   ]
  },
  {
   "cell_type": "code",
   "execution_count": 3,
   "id": "512032e2-83f6-431b-85ab-b4d72134a1bd",
   "metadata": {},
   "outputs": [
    {
     "name": "stdout",
     "output_type": "stream",
     "text": [
      "WARNING:tensorflow:From C:\\Users\\thimo\\anaconda3\\Lib\\site-packages\\tensorflow_datasets\\core\\dataset_builder.py:944: The name tf.data.get_output_shapes is deprecated. Please use tf.compat.v1.data.get_output_shapes instead.\n",
      "\n"
     ]
    },
    {
     "name": "stderr",
     "output_type": "stream",
     "text": [
      "WARNING:tensorflow:From C:\\Users\\thimo\\anaconda3\\Lib\\site-packages\\tensorflow_datasets\\core\\dataset_builder.py:944: The name tf.data.get_output_shapes is deprecated. Please use tf.compat.v1.data.get_output_shapes instead.\n",
      "\n"
     ]
    }
   ],
   "source": [
    "#plotData, plotInfo = tfds.as_numpy(tfds.load('emnist/letters', split='train', shuffle_files=True, with_info=True, batch_size=-1, as_supervised=True))\n",
    "\n",
    "ds = tfds.as_numpy(tfds.load(\n",
    "    'emnist/letters',\n",
    "    split=['train', 'test'],\n",
    "    shuffle_files=True,\n",
    "    download=True,\n",
    "    batch_size=-1,\n",
    "    as_supervised=True,\n",
    "))\n",
    "\n",
    "(x_train, y_train), (x_test, y_test) = ds"
   ]
  },
  {
   "cell_type": "code",
   "execution_count": 4,
   "id": "a8781046-2f61-4b21-b372-ac6b9149d946",
   "metadata": {},
   "outputs": [
    {
     "name": "stdout",
     "output_type": "stream",
     "text": [
      "Training data shape: (88800, 28, 28, 1)\n",
      "Test data shape: (14800, 28, 28, 1)\n"
     ]
    }
   ],
   "source": [
    "# Toon de data\n",
    "print(\"Training data shape:\", x_train.shape)\n",
    "print(\"Test data shape:\", x_test.shape)"
   ]
  },
  {
   "cell_type": "code",
   "execution_count": 5,
   "id": "5ac33691-71c4-44cb-bd60-a380f37b4009",
   "metadata": {},
   "outputs": [],
   "source": [
    "# Normalize the pixel values to be between 0 and 1\n",
    "x_train = tf.keras.utils.normalize(x_train, axis=1)\n",
    "x_test = tf.keras.utils.normalize(x_test, axis=1)"
   ]
  },
  {
   "cell_type": "code",
   "execution_count": 6,
   "id": "120cb22c-d665-4f7b-80b6-eaec937ebfbe",
   "metadata": {},
   "outputs": [],
   "source": [
    "x_train = x_train.reshape(-1, 28, 28, 1)\n",
    "x_test = x_test.reshape(-1, 28, 28, 1)"
   ]
  },
  {
   "cell_type": "code",
   "execution_count": 7,
   "id": "198d0ad2-9bf2-4c27-a2c3-09aaaf4a12d0",
   "metadata": {},
   "outputs": [
    {
     "name": "stderr",
     "output_type": "stream",
     "text": [
      "C:\\Users\\thimo\\anaconda3\\Lib\\site-packages\\keras\\src\\layers\\reshaping\\flatten.py:37: UserWarning: Do not pass an `input_shape`/`input_dim` argument to a layer. When using Sequential models, prefer using an `Input(shape)` object as the first layer in the model instead.\n",
      "  super().__init__(**kwargs)\n"
     ]
    }
   ],
   "source": [
    "model = Sequential()\n",
    "\n",
    "#Maak de 28x28 array plat tot een 1 dimentionale array of een lijst\n",
    "model.add(Flatten(input_shape=(28, 28)))\n",
    "\n",
    "model.add(Dense(128, activation='relu'))\n",
    "model.add(Dense(27, activation='softmax'))\n",
    "\n",
    "#Compile the current model\n",
    "model.compile(optimizer='adam', loss='sparse_categorical_crossentropy', metrics=['accuracy'])"
   ]
  },
  {
   "cell_type": "code",
   "execution_count": 8,
   "id": "34ff09a6-57e0-43c5-86ae-4c42f6d66691",
   "metadata": {},
   "outputs": [
    {
     "name": "stdout",
     "output_type": "stream",
     "text": [
      "Epoch 1/5\n",
      "\u001b[1m2498/2498\u001b[0m \u001b[32m━━━━━━━━━━━━━━━━━━━━\u001b[0m\u001b[37m\u001b[0m \u001b[1m7s\u001b[0m 2ms/step - accuracy: 0.6049 - loss: 1.4036 - val_accuracy: 0.7945 - val_loss: 0.6893\n",
      "Epoch 2/5\n",
      "\u001b[1m2498/2498\u001b[0m \u001b[32m━━━━━━━━━━━━━━━━━━━━\u001b[0m\u001b[37m\u001b[0m \u001b[1m6s\u001b[0m 2ms/step - accuracy: 0.8133 - loss: 0.6172 - val_accuracy: 0.8289 - val_loss: 0.5527\n",
      "Epoch 3/5\n",
      "\u001b[1m2498/2498\u001b[0m \u001b[32m━━━━━━━━━━━━━━━━━━━━\u001b[0m\u001b[37m\u001b[0m \u001b[1m6s\u001b[0m 2ms/step - accuracy: 0.8517 - loss: 0.4839 - val_accuracy: 0.8518 - val_loss: 0.4816\n",
      "Epoch 4/5\n",
      "\u001b[1m2498/2498\u001b[0m \u001b[32m━━━━━━━━━━━━━━━━━━━━\u001b[0m\u001b[37m\u001b[0m \u001b[1m6s\u001b[0m 2ms/step - accuracy: 0.8715 - loss: 0.4202 - val_accuracy: 0.8600 - val_loss: 0.4508\n",
      "Epoch 5/5\n",
      "\u001b[1m2498/2498\u001b[0m \u001b[32m━━━━━━━━━━━━━━━━━━━━\u001b[0m\u001b[37m\u001b[0m \u001b[1m6s\u001b[0m 2ms/step - accuracy: 0.8871 - loss: 0.3661 - val_accuracy: 0.8645 - val_loss: 0.4386\n"
     ]
    }
   ],
   "source": [
    "# Train het model met validatie\n",
    "history = model.fit(x_train, y_train, epochs=5, validation_split=0.1)"
   ]
  },
  {
   "cell_type": "code",
   "execution_count": 9,
   "id": "2070136a-e948-49c7-aa2d-c5e119ec786d",
   "metadata": {},
   "outputs": [
    {
     "name": "stdout",
     "output_type": "stream",
     "text": [
      "\u001b[1m463/463\u001b[0m \u001b[32m━━━━━━━━━━━━━━━━━━━━\u001b[0m\u001b[37m\u001b[0m \u001b[1m1s\u001b[0m 2ms/step - accuracy: 0.8517 - loss: 0.4733\n",
      "Test nauwkeurigheid: 0.8506\n"
     ]
    }
   ],
   "source": [
    "# Evalueer het model op de testset\n",
    "test_loss, test_accuracy = model.evaluate(x_test, y_test)\n",
    "\n",
    "print(f\"Test nauwkeurigheid: {test_accuracy:.4f}\")"
   ]
  },
  {
   "cell_type": "code",
   "execution_count": 10,
   "id": "80cbbd90-ed58-4548-b0d2-2347c20823ed",
   "metadata": {},
   "outputs": [
    {
     "name": "stdout",
     "output_type": "stream",
     "text": [
      "Modelgrootte: 0.40 MB\n"
     ]
    }
   ],
   "source": [
    "# Modelgrootte berekenen\n",
    "model_size = model.count_params()\n",
    "model_memory = model_size * 4 / (1024 ** 2)  # 4 bytes per 32-bit float\n",
    "print(f\"Modelgrootte: {model_memory:.2f} MB\")"
   ]
  },
  {
   "cell_type": "code",
   "execution_count": 11,
   "id": "805e3f87-548c-48d7-8f99-325baa13f952",
   "metadata": {},
   "outputs": [],
   "source": [
    "from sklearn.metrics import confusion_matrix\n",
    "import numpy as np"
   ]
  },
  {
   "cell_type": "code",
   "execution_count": 12,
   "id": "a262b21e-4cc6-4c91-b214-9a13258f08b4",
   "metadata": {},
   "outputs": [
    {
     "name": "stdout",
     "output_type": "stream",
     "text": [
      "\u001b[1m463/463\u001b[0m \u001b[32m━━━━━━━━━━━━━━━━━━━━\u001b[0m\u001b[37m\u001b[0m \u001b[1m1s\u001b[0m 1ms/step\n"
     ]
    }
   ],
   "source": [
    "# Maak voorspellingen op de testset\n",
    "y_pred = model.predict(x_test)\n",
    "y_pred_classes = np.argmax(y_pred, axis=1)"
   ]
  },
  {
   "cell_type": "code",
   "execution_count": 13,
   "id": "bd723394-3062-4367-8407-1da8b21dbc5e",
   "metadata": {},
   "outputs": [
    {
     "name": "stdout",
     "output_type": "stream",
     "text": [
      "Verwarringsmatrix:\n",
      "[[663   1   1   8   5   6  14  20   0   1   2   0   5  12  12   3  30   1\n",
      "    1   1   4   0   1   4   0   5]\n",
      " [  6 712   1  11   5   0  16  23   2   3   0   4   0   1   5   1   2   1\n",
      "    3   0   0   0   0   0   0   4]\n",
      " [  6   1 700   3  39   1  13   0   4   0   1   7   0   1   7   1   1   6\n",
      "    1   5   1   0   1   0   0   1]\n",
      " [  6  12   1 692   0   1   3   3   1   7   2   1   0   7  38   7   4   2\n",
      "    0   2   6   0   0   2   2   1]\n",
      " [ 14   4  22   0 717   4   4   0   0   0   1   4   1   0   6   2   3   9\n",
      "    1   6   0   0   0   0   0   2]\n",
      " [  0   3   1   2   2 703   2   0   7   1   2   1   0   3   0  33   4  11\n",
      "    4  20   0   0   0   0   1   0]\n",
      " [ 17  16   6   2   3   3 588   2   0  14   1   0   0   3   1   2 111   1\n",
      "   20   2   1   0   1   0   6   0]\n",
      " [  3  10   0   6   0   3   1 711   4   2   7  10   9  17   0   0   0   1\n",
      "    0   3   8   0   3   2   0   0]\n",
      " [  2   1   1   0   1   3   1   0 681  20   0  70   0   0   0   0   0   3\n",
      "    3   5   1   0   1   2   1   4]\n",
      " [  2   3   0  12   0   2   7   1  26 711   0   3   0   0   0   0   3   0\n",
      "    7  13   1   2   0   1   6   0]\n",
      " [  2   5   0   4   4   3   2  24   3   1 708   4   3   3   0   1   0  11\n",
      "    0   5   1   1   1  11   3   0]\n",
      " [  0   4   5   1   0   2   0   8 333   2   1 427   0   0   1   1   0   0\n",
      "    1  12   0   0   0   0   1   1]\n",
      " [  2   0   0   1   0   0   0  12   0   0   1   0 768   8   0   0   0   1\n",
      "    0   0   2   0   2   2   1   0]\n",
      " [ 29   0   0   9   0   1   1  40   0   1   6   0  34 641   2   1   2   4\n",
      "    0   2   3   4  11   6   1   2]\n",
      " [  3   3   0  10   0   1   1   1   0   0   0   0   0   0 773   0   4   0\n",
      "    0   0   3   1   0   0   0   0]\n",
      " [  0   0   0   5   1   9   3   0   0   0   0   0   0   1   1 766   2   5\n",
      "    0   6   0   1   0   0   0   0]\n",
      " [ 34   3   0   4   5   6 102   0   5   0   1   1   2   4   6   9 603   1\n",
      "    1   6   2   0   1   0   4   0]\n",
      " [ 15   3   3   1   9  25   1   1   2   0   8   1   1   2   0  21   5 654\n",
      "    1  17   0   6   0   7  13   4]\n",
      " [  3   2   0   1   0   1  11   1   1   6   0   0   0   0   0   0   2   0\n",
      "  371   0   0   0   0   0   1   0]\n",
      " [  0   0   0   0   0   0   0   0   0   0   0   0   0   0   0   0   0   0\n",
      "    0   0   0   0   0   0   0   0]\n",
      " [  0   0   0   0   0   0   0   0   0   0   0   0   0   0   0   0   0   0\n",
      "    0   0   0   0   0   0   0   0]\n",
      " [  0   0   0   0   0   0   0   0   0   0   0   0   0   0   0   0   0   0\n",
      "    0   0   0   0   0   0   0   0]\n",
      " [  0   0   0   0   0   0   0   0   0   0   0   0   0   0   0   0   0   0\n",
      "    0   0   0   0   0   0   0   0]\n",
      " [  0   0   0   0   0   0   0   0   0   0   0   0   0   0   0   0   0   0\n",
      "    0   0   0   0   0   0   0   0]\n",
      " [  0   0   0   0   0   0   0   0   0   0   0   0   0   0   0   0   0   0\n",
      "    0   0   0   0   0   0   0   0]\n",
      " [  0   0   0   0   0   0   0   0   0   0   0   0   0   0   0   0   0   0\n",
      "    0   0   0   0   0   0   0   0]]\n"
     ]
    }
   ],
   "source": [
    "# Bereken de verwarringsmatrix\n",
    "cm = confusion_matrix(y_test, y_pred_classes)\n",
    "print(\"Verwarringsmatrix:\")\n",
    "print(cm)"
   ]
  },
  {
   "cell_type": "markdown",
   "id": "8eb76ba6-d068-4429-b261-13498aebe9a2",
   "metadata": {},
   "source": [
    "# With custom data set"
   ]
  },
  {
   "cell_type": "code",
   "execution_count": 46,
   "id": "a7498bbb-6754-42de-b367-7e914943a099",
   "metadata": {},
   "outputs": [
    {
     "name": "stdout",
     "output_type": "stream",
     "text": [
      "\u001b[1m1/1\u001b[0m \u001b[32m━━━━━━━━━━━━━━━━━━━━\u001b[0m\u001b[37m\u001b[0m \u001b[1m0s\u001b[0m 28ms/step\n",
      "This letter should be a: 14\n"
     ]
    },
    {
     "data": {
      "image/png": "[encoded data removed]",
      "text/plain": [
       "<Figure size 640x480 with 1 Axes>"
      ]
     },
     "metadata": {},
     "output_type": "display_data"
    }
   ],
   "source": [
    "img_number = 1\n",
    "# while os.path.isfile(f\"dataset/A/img00{img_number}.png\"):\n",
    "#    try:\n",
    "#        img = cv2.imread(f\"dataset/A/img00{img_number}.png\")[:,:,0]\n",
    "#        img = np.invert(np.array([img]))\n",
    "#        prediction = model.predict(img)\n",
    "#        print(f\"This letter should be a: {np.argmax(prediction)}\")\n",
    "#     except:\n",
    "#         print(\"Error!\")\n",
    "#     finally:\n",
    "#         img_number += 1\n",
    "img = cv2.imread(f\"dataset/C/img00{img_number}.png\")[:,:,0]\n",
    "img = np.invert(np.array([img]))\n",
    "prediction = model.predict(img)\n",
    "print(f\"This letter should be a: {np.argmax(prediction)}\")\n",
    "plt.imshow(img[0], cmap=plt.cm.binary)\n",
    "plt.show()"
   ]
  },
  {
   "cell_type": "code",
   "execution_count": null,
   "id": "dc125923-a635-4166-a616-f60558ff42ec",
   "metadata": {},
   "outputs": [],
   "source": []
  }
 ],
 "metadata": {
  "kernelspec": {
   "display_name": "Python 3 (ipykernel)",
   "language": "python",
   "name": "python3"
  },
  "language_info": {
   "codemirror_mode": {
    "name": "ipython",
    "version": 3
   },
   "file_extension": ".py",
   "mimetype": "text/x-python",
   "name": "python",
   "nbconvert_exporter": "python",
   "pygments_lexer": "ipython3",
   "version": "3.11.7"
  }
 },
 "nbformat": 4,
 "nbformat_minor": 5
}

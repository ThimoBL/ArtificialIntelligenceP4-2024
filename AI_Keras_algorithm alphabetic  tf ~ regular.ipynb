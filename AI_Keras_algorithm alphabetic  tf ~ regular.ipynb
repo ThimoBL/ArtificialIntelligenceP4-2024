{
 "cells": [
  {
   "cell_type": "markdown",
   "id": "be40ba97-9745-4a70-abd7-c14da9198a86",
   "metadata": {},
   "source": [
    "# Aritificial intelligence assignment 2024"
   ]
  },
  {
   "cell_type": "code",
   "execution_count": 3,
   "id": "dae46c20-5b3b-4856-bb02-a265c1d6baf8",
   "metadata": {},
   "outputs": [
    {
     "name": "stdout",
     "output_type": "stream",
     "text": [
      "TensorFlow version: 2.16.1\n"
     ]
    }
   ],
   "source": [
    "import tensorflow as tf\n",
    "import tensorflow_datasets as tfds\n",
    "from tensorflow.keras.models import Sequential\n",
    "from tensorflow.keras.layers import Conv2D, MaxPooling2D, Flatten, Dense\n",
    "\n",
    "print(\"TensorFlow version:\", tf.__version__)"
   ]
  },
  {
   "cell_type": "code",
   "execution_count": 46,
   "id": "512032e2-83f6-431b-85ab-b4d72134a1bd",
   "metadata": {},
   "outputs": [
    {
     "name": "stdout",
     "output_type": "stream",
     "text": [
      "(88800,)\n",
      "(14800,)\n"
     ]
    }
   ],
   "source": [
    "#plotData, plotInfo = tfds.as_numpy(tfds.load('emnist/letters', split='train', shuffle_files=True, with_info=True, batch_size=-1, as_supervised=True))\n",
    "\n",
    "ds = tfds.as_numpy(tfds.load(\n",
    "    'emnist/letters',\n",
    "    split=['train', 'test'],\n",
    "    shuffle_files=True,\n",
    "    download=True,\n",
    "    batch_size=-1,\n",
    "    as_supervised=True,\n",
    "))\n",
    "\n",
    "(x_train, y_train), (x_test, y_test) = ds"
   ]
  },
  {
   "cell_type": "code",
   "execution_count": 48,
   "id": "a8781046-2f61-4b21-b372-ac6b9149d946",
   "metadata": {},
   "outputs": [
    {
     "name": "stdout",
     "output_type": "stream",
     "text": [
      "Training data shape: (88800, 28, 28, 1)\n",
      "Test data shape: (14800, 28, 28, 1)\n"
     ]
    }
   ],
   "source": [
    "# Toon de data\n",
    "print(\"Training data shape:\", x_train.shape)\n",
    "print(\"Test data shape:\", x_test.shape)"
   ]
  },
  {
   "cell_type": "code",
   "execution_count": 50,
   "id": "5ac33691-71c4-44cb-bd60-a380f37b4009",
   "metadata": {},
   "outputs": [],
   "source": [
    "# Normalize the pixel values to be between 0 and 1\n",
    "x_train = tf.keras.utils.normalize(x_train, axis=1)\n",
    "x_test = tf.keras.utils.normalize(x_test, axis=1)"
   ]
  },
  {
   "cell_type": "code",
   "execution_count": 51,
   "id": "120cb22c-d665-4f7b-80b6-eaec937ebfbe",
   "metadata": {},
   "outputs": [],
   "source": [
    "x_train = x_train.reshape(-1, 28, 28, 1)\n",
    "x_test = x_test.reshape(-1, 28, 28, 1)"
   ]
  },
  {
   "cell_type": "code",
   "execution_count": 66,
   "id": "198d0ad2-9bf2-4c27-a2c3-09aaaf4a12d0",
   "metadata": {},
   "outputs": [],
   "source": [
    "model = Sequential()\n",
    "\n",
    "#Maak de 28x28 array plat tot een 1 dimentionale array of een lijst\n",
    "model.add(Flatten(input_shape=(28, 28)))\n",
    "\n",
    "model.add(Dense(128, activation='relu'))\n",
    "model.add(Dense(27, activation='softmax'))\n",
    "\n",
    "#Compile the current model\n",
    "model.compile(optimizer='adam', loss='sparse_categorical_crossentropy', metrics=['accuracy'])"
   ]
  },
  {
   "cell_type": "code",
   "execution_count": 68,
   "id": "34ff09a6-57e0-43c5-86ae-4c42f6d66691",
   "metadata": {},
   "outputs": [
    {
     "name": "stdout",
     "output_type": "stream",
     "text": [
      "Epoch 1/5\n",
      "\u001b[1m2498/2498\u001b[0m \u001b[32m━━━━━━━━━━━━━━━━━━━━\u001b[0m\u001b[37m\u001b[0m \u001b[1m5s\u001b[0m 2ms/step - accuracy: 0.6064 - loss: 1.4160 - val_accuracy: 0.7901 - val_loss: 0.7030\n",
      "Epoch 2/5\n",
      "\u001b[1m2498/2498\u001b[0m \u001b[32m━━━━━━━━━━━━━━━━━━━━\u001b[0m\u001b[37m\u001b[0m \u001b[1m5s\u001b[0m 2ms/step - accuracy: 0.8098 - loss: 0.6256 - val_accuracy: 0.8333 - val_loss: 0.5536\n",
      "Epoch 3/5\n",
      "\u001b[1m2498/2498\u001b[0m \u001b[32m━━━━━━━━━━━━━━━━━━━━\u001b[0m\u001b[37m\u001b[0m \u001b[1m4s\u001b[0m 2ms/step - accuracy: 0.8498 - loss: 0.4872 - val_accuracy: 0.8454 - val_loss: 0.5011\n",
      "Epoch 4/5\n",
      "\u001b[1m2498/2498\u001b[0m \u001b[32m━━━━━━━━━━━━━━━━━━━━\u001b[0m\u001b[37m\u001b[0m \u001b[1m4s\u001b[0m 2ms/step - accuracy: 0.8685 - loss: 0.4192 - val_accuracy: 0.8543 - val_loss: 0.4734\n",
      "Epoch 5/5\n",
      "\u001b[1m2498/2498\u001b[0m \u001b[32m━━━━━━━━━━━━━━━━━━━━\u001b[0m\u001b[37m\u001b[0m \u001b[1m4s\u001b[0m 2ms/step - accuracy: 0.8821 - loss: 0.3738 - val_accuracy: 0.8587 - val_loss: 0.4461\n"
     ]
    }
   ],
   "source": [
    "# Train het model met validatie\n",
    "history = model.fit(x_train, y_train, epochs=5, validation_split=0.1)"
   ]
  },
  {
   "cell_type": "code",
   "execution_count": 70,
   "id": "2070136a-e948-49c7-aa2d-c5e119ec786d",
   "metadata": {},
   "outputs": [
    {
     "name": "stdout",
     "output_type": "stream",
     "text": [
      "\u001b[1m463/463\u001b[0m \u001b[32m━━━━━━━━━━━━━━━━━━━━\u001b[0m\u001b[37m\u001b[0m \u001b[1m1s\u001b[0m 1ms/step - accuracy: 0.8525 - loss: 0.4756\n",
      "Test nauwkeurigheid: 0.8495\n"
     ]
    }
   ],
   "source": [
    "# Evalueer het model op de testset\n",
    "test_loss, test_accuracy = model.evaluate(x_test, y_test)\n",
    "\n",
    "print(f\"Test nauwkeurigheid: {test_accuracy:.4f}\")"
   ]
  },
  {
   "cell_type": "code",
   "execution_count": 72,
   "id": "80cbbd90-ed58-4548-b0d2-2347c20823ed",
   "metadata": {},
   "outputs": [
    {
     "name": "stdout",
     "output_type": "stream",
     "text": [
      "Modelgrootte: 0.40 MB\n"
     ]
    }
   ],
   "source": [
    "# Modelgrootte berekenen\n",
    "model_size = model.count_params()\n",
    "model_memory = model_size * 4 / (1024 ** 2)  # 4 bytes per 32-bit float\n",
    "print(f\"Modelgrootte: {model_memory:.2f} MB\")"
   ]
  },
  {
   "cell_type": "code",
   "execution_count": 74,
   "id": "805e3f87-548c-48d7-8f99-325baa13f952",
   "metadata": {},
   "outputs": [],
   "source": [
    "from sklearn.metrics import confusion_matrix\n",
    "import numpy as np"
   ]
  },
  {
   "cell_type": "code",
   "execution_count": 76,
   "id": "a262b21e-4cc6-4c91-b214-9a13258f08b4",
   "metadata": {},
   "outputs": [
    {
     "name": "stdout",
     "output_type": "stream",
     "text": [
      "\u001b[1m463/463\u001b[0m \u001b[32m━━━━━━━━━━━━━━━━━━━━\u001b[0m\u001b[37m\u001b[0m \u001b[1m1s\u001b[0m 1ms/step  \n"
     ]
    }
   ],
   "source": [
    "# Maak voorspellingen op de testset\n",
    "y_pred = model.predict(x_test)\n",
    "y_pred_classes = np.argmax(y_pred, axis=1)"
   ]
  },
  {
   "cell_type": "code",
   "execution_count": 78,
   "id": "bd723394-3062-4367-8407-1da8b21dbc5e",
   "metadata": {},
   "outputs": [
    {
     "name": "stdout",
     "output_type": "stream",
     "text": [
      "Verwarringsmatrix:\n",
      "[[686   6   3   5  18   1   9  13   0   1   2   0   3  13  10   4  15   3\n",
      "    0   2   1   0   0   2   0   3]\n",
      " [  8 728   1  14   8   1   4  14   3   0   1   3   0   2   2   2   1   1\n",
      "    1   0   0   0   0   1   0   5]\n",
      " [  7   2 705   1  55   1   4   0   1   0   2   3   0   1  10   1   1   3\n",
      "    0   1   1   0   1   0   0   0]\n",
      " [  9  14   1 687   1   1   2   3   1   9   1   2   3   5  34  10   2   1\n",
      "    0   5   2   0   2   0   2   3]\n",
      " [  5   6  21   0 746   2   3   0   1   0   0   2   1   0   0   2   2   3\n",
      "    0   2   1   0   0   1   0   2]\n",
      " [  1   5   1   1   2 690   2   0   5   0   1   2   2   1   0  32   7  10\n",
      "    4  31   0   0   0   1   2   0]\n",
      " [ 29  30  12   2   6   4 562   0   1  10   1   1   0   3   5   3 112   0\n",
      "    8   3   0   0   2   0   5   1]\n",
      " [  8  16   0   4   1   3   1 652   4   0  15  18  13  47   0   0   0   1\n",
      "    0   6   5   0   2   3   1   0]\n",
      " [  0   1   2   0   2   3   2   1 648  14   1 105   0   0   0   0   0   2\n",
      "    2   4   0   1   1   6   1   4]\n",
      " [  3   4   0  13   0   0   7   0  40 689   0   3   0   0   0   0   2   0\n",
      "   10  10   0   5   0   2  12   0]\n",
      " [  3   3   2   1   3   3   1  13   3   0 713   5   3   1   0   0   0   8\n",
      "    0   9   2   5   1  16   3   2]\n",
      " [  1   3   6   0   0   2   0   1 277   2   5 483   0   0   0   0   0   2\n",
      "    0   9   0   0   0   0   7   2]\n",
      " [  4   0   0   0   0   0   0   1   0   0   4   0 765  14   0   1   0   1\n",
      "    0   2   1   0   2   1   2   2]\n",
      " [ 30   1   0   6   1   1   1  17   0   0   5   0  20 688   2   0   2   2\n",
      "    0   2   2   4   8   4   3   1]\n",
      " [  5   2   2  16   1   0   3   0   0   0   0   0   0   1 763   1   3   1\n",
      "    0   0   2   0   0   0   0   0]\n",
      " [  0   0   0   7   2   6   2   0   0   0   0   1   0   2   0 762   5   6\n",
      "    0   6   0   0   0   1   0   0]\n",
      " [ 46   2   0   1   6   5 103   0   4   3   0   1   2   1  11   7 586   0\n",
      "    1   7   1   0   2   1   6   4]\n",
      " [ 21   5   1   0  22  16   0   0   2   0  16   0   4   4   0  11   2 649\n",
      "    1  14   0  14   0   7   6   5]\n",
      " [  2   2   0   0   3   1  14   1   1   3   0   0   0   0   2   0   1   0\n",
      "  370   0   0   0   0   0   0   0]\n",
      " [  0   0   0   0   0   0   0   0   0   0   0   0   0   0   0   0   0   0\n",
      "    0   0   0   0   0   0   0   0]\n",
      " [  0   0   0   0   0   0   0   0   0   0   0   0   0   0   0   0   0   0\n",
      "    0   0   0   0   0   0   0   0]\n",
      " [  0   0   0   0   0   0   0   0   0   0   0   0   0   0   0   0   0   0\n",
      "    0   0   0   0   0   0   0   0]\n",
      " [  0   0   0   0   0   0   0   0   0   0   0   0   0   0   0   0   0   0\n",
      "    0   0   0   0   0   0   0   0]\n",
      " [  0   0   0   0   0   0   0   0   0   0   0   0   0   0   0   0   0   0\n",
      "    0   0   0   0   0   0   0   0]\n",
      " [  0   0   0   0   0   0   0   0   0   0   0   0   0   0   0   0   0   0\n",
      "    0   0   0   0   0   0   0   0]\n",
      " [  0   0   0   0   0   0   0   0   0   0   0   0   0   0   0   0   0   0\n",
      "    0   0   0   0   0   0   0   0]]\n"
     ]
    }
   ],
   "source": [
    "# Bereken de verwarringsmatrix\n",
    "cm = confusion_matrix(y_test, y_pred_classes)\n",
    "print(\"Verwarringsmatrix:\")\n",
    "print(cm)"
   ]
  }
 ],
 "metadata": {
  "kernelspec": {
   "display_name": "Python 3 (ipykernel)",
   "language": "python",
   "name": "python3"
  },
  "language_info": {
   "codemirror_mode": {
    "name": "ipython",
    "version": 3
   },
   "file_extension": ".py",
   "mimetype": "text/x-python",
   "name": "python",
   "nbconvert_exporter": "python",
   "pygments_lexer": "ipython3",
   "version": "3.10.13"
  }
 },
 "nbformat": 4,
 "nbformat_minor": 5
}
